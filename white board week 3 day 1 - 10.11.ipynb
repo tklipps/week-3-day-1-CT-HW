{
 "cells": [
  {
   "cell_type": "code",
   "execution_count": null,
   "id": "a0c11ecf",
   "metadata": {},
   "outputs": [],
   "source": [
    "# write a function that will remove all vowels from a given string. The function should return a string.\n",
    "# Example:\n",
    "# Input: ‘Joel’\n",
    "# Output: ‘Jl’"
   ]
  },
  {
   "cell_type": "code",
   "execution_count": 11,
   "id": "258455ea",
   "metadata": {},
   "outputs": [
    {
     "name": "stdout",
     "output_type": "stream",
     "text": [
      "What is your word? member\n"
     ]
    }
   ],
   "source": [
    "# Mine\n",
    "def remove_vowels():\n",
    "    vowels = [\"a\",\"e\",\"i\",\"o\",\"u\"]\n",
    "    word = input(\"What is your word? \")\n",
    "    for letters in word:\n",
    "        if letters.lower() == vowels:\n",
    "            word.remove(letters)\n",
    "            print(word)\n",
    "\n",
    "      \n",
    "        \n",
    "remove_vowels()"
   ]
  },
  {
   "cell_type": "code",
   "execution_count": 19,
   "id": "1b564a0a",
   "metadata": {},
   "outputs": [
    {
     "data": {
      "text/plain": [
       "'hspjsdcn'"
      ]
     },
     "execution_count": 19,
     "metadata": {},
     "output_type": "execute_result"
    }
   ],
   "source": [
    "# Class version\n",
    "\n",
    "def class_vowels(word):\n",
    "    vowels = [\"a\",\"e\",\"i\",\"o\",\"u\"]\n",
    "    new_string = \"\"\n",
    "    for letter in word:\n",
    "        if letter.lower() not in vowels:\n",
    "            new_string+= letter\n",
    "    return new_string\n",
    "class_vowels(\"hsaepioujsdcn\")"
   ]
  }
 ],
 "metadata": {
  "kernelspec": {
   "display_name": "Python 3",
   "language": "python",
   "name": "python3"
  },
  "language_info": {
   "codemirror_mode": {
    "name": "ipython",
    "version": 3
   },
   "file_extension": ".py",
   "mimetype": "text/x-python",
   "name": "python",
   "nbconvert_exporter": "python",
   "pygments_lexer": "ipython3",
   "version": "3.8.8"
  }
 },
 "nbformat": 4,
 "nbformat_minor": 5
}
